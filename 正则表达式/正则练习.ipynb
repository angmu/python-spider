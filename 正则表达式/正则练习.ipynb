{
 "cells": [
  {
   "cell_type": "markdown",
   "metadata": {
    "scrolled": true
   },
   "source": [
    "1 已知字符串:\n",
    "info = '<a href=\"http://www.baidu.com\">baidu</a>'\n",
    "用正则模块提取出网址：\"http://www.baidu.com\" 和 链接文本:\"baidu\"\n",
    "\n",
    "2 字符串：\"one1two2three3four4\" 用正则处理，输出 \"1234\"\n",
    "\n",
    "3 已知字符串：text = \"JGood is a handsome boy, he is cool, clever, and so on...\" 查找所有包含'oo'的单词。\n",
    "\n",
    "4 为什么在unix里，grep后面的正则有些时候要加引号，有些时候不需要。"
   ]
  },
  {
   "cell_type": "code",
   "execution_count": 2,
   "metadata": {
    "scrolled": true
   },
   "outputs": [
    {
     "name": "stdout",
     "output_type": "stream",
     "text": [
      "http://www.baidu.com\n",
      "baidu\n"
     ]
    }
   ],
   "source": [
    "import re\n",
    "info = '<a href=\"http://www.baidu.com\">baidu</a>'\n",
    "print(re.search(r'<a href=\"(.*?)\">', info).group(1))\n",
    "print(re.search(r'<a href=\"(.*?)\">(.*?)</a>', info).group(2))"
   ]
  },
  {
   "cell_type": "code",
   "execution_count": 17,
   "metadata": {},
   "outputs": [
    {
     "name": "stdout",
     "output_type": "stream",
     "text": [
      "1234\n",
      "['one', 'two', 'three', 'four', '']\n",
      "['', '', '', '1', '', '', '2', '', '', '', '', '3', '', '', '', '4']\n"
     ]
    }
   ],
   "source": [
    "text2 = 'one1two2three3four4'\n",
    "print(re.sub(r'\\D', '', text2))\n",
    "print(re.split(r'\\d', text2))\n",
    "print(re.split(r'\\D', text2))"
   ]
  },
  {
   "cell_type": "code",
   "execution_count": 11,
   "metadata": {
    "scrolled": true
   },
   "outputs": [
    {
     "name": "stdout",
     "output_type": "stream",
     "text": [
      "['JGood', 'cool']\n"
     ]
    }
   ],
   "source": [
    "text3 = \"JGood is a handsome boy, he is cool, clever, and so on...\"\n",
    "print(re.findall(r'\\w*oo\\w*',text3))"
   ]
  },
  {
   "cell_type": "markdown",
   "metadata": {},
   "source": [
    "4. 正则表达式里有特殊含义的字符，需要加分号"
   ]
  },
  {
   "cell_type": "markdown",
   "metadata": {},
   "source": [
    "已知字符串：\n",
    "info = 'test,&nbsp;url(\"http://www.baidu.com\")&,dddddd \"=\"\" <svg></svg><path></path><img src=\"http://www.baidu.com\">ininnnin<img src=\"http://www.dd.com\">'\n",
    "\n",
    "要求完成下面2个小功能：\n",
    "1.1 关闭[img]标签\n",
    "1.2 将url()中的[\"]转为[']\n",
    "\n",
    "最后结果字符串：\n",
    "\"test,&nbsp;url('http://www.baidu.com')&,dddddd \"=\"\" <svg></svg><path></path><img src=\"http://www.baidu.com\"></img>ininnnin<img src=\"http://www.dd.com\"></img>\""
   ]
  }
 ],
 "metadata": {
  "kernelspec": {
   "display_name": "Python 3",
   "language": "python",
   "name": "python3"
  },
  "language_info": {
   "codemirror_mode": {
    "name": "ipython",
    "version": 3
   },
   "file_extension": ".py",
   "mimetype": "text/x-python",
   "name": "python",
   "nbconvert_exporter": "python",
   "pygments_lexer": "ipython3",
   "version": "3.6.4rc1"
  }
 },
 "nbformat": 4,
 "nbformat_minor": 2
}
