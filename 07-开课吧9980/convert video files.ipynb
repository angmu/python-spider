{
 "cells": [
  {
   "cell_type": "code",
   "execution_count": 17,
   "metadata": {},
   "outputs": [
    {
     "data": {
      "text/plain": [
       "0"
      ]
     },
     "execution_count": 17,
     "metadata": {},
     "output_type": "execute_result"
    }
   ],
   "source": [
    "import os\n",
    "import shutil\n",
    "path = r'C:\\Users\\lizhi\\Desktop\\1554508100459'\n",
    "path = path.replace('\\\\', '/')\n",
    "\n",
    "with open(path + '/.local.index.m3u8', 'r') as sources:\n",
    "    lines = sources.readlines()\n",
    "with open(path + '/.local.index.m3u8', 'w') as outlets:\n",
    "    for line in lines:\n",
    "        line = line.replace('/storage/emulated/0/UCDownloads/VideoData', 'C:/Users/lizhi/Desktop')\n",
    "        outlets.write(line)\n",
    "os.chdir(path)\n",
    "os.system(\"ffmpeg -allowed_extensions ALL -i .local.index.m3u8 -c copy -bsf:a aac_adtstoasc all.mp4\")\n",
    "shutil.copyfileobj('all.mp4', '../all.mp4')"
   ]
  },
  {
   "cell_type": "code",
   "execution_count": null,
   "metadata": {},
   "outputs": [],
   "source": []
  },
  {
   "cell_type": "code",
   "execution_count": null,
   "metadata": {},
   "outputs": [],
   "source": []
  }
 ],
 "metadata": {
  "kernelspec": {
   "display_name": "Python 3",
   "language": "python",
   "name": "python3"
  },
  "language_info": {
   "codemirror_mode": {
    "name": "ipython",
    "version": 3
   },
   "file_extension": ".py",
   "mimetype": "text/x-python",
   "name": "python",
   "nbconvert_exporter": "python",
   "pygments_lexer": "ipython3",
   "version": "3.6.4rc1"
  },
  "toc": {
   "base_numbering": 1,
   "nav_menu": {},
   "number_sections": true,
   "sideBar": true,
   "skip_h1_title": false,
   "title_cell": "Table of Contents",
   "title_sidebar": "Contents",
   "toc_cell": false,
   "toc_position": {},
   "toc_section_display": true,
   "toc_window_display": false
  }
 },
 "nbformat": 4,
 "nbformat_minor": 2
}
